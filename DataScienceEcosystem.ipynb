{
 "cells": [
  {
   "cell_type": "markdown",
   "id": "0b30d465-2e6f-4aca-b764-1148d91c7494",
   "metadata": {},
   "source": [
    "# Data Science Tools and Ecosystem"
   ]
  },
  {
   "cell_type": "markdown",
   "id": "85386263-a0ad-417b-8ea9-1e09a66df996",
   "metadata": {},
   "source": [
    "In This Data Science Tools and Ecosystem are outlined:"
   ]
  },
  {
   "cell_type": "markdown",
   "id": "935a257b-e140-4592-b13e-b7056b5ca558",
   "metadata": {},
   "source": [
    "Some of the popular languages in data science are:\n",
    "1. python\n",
    "2. R\n",
    "3. C\n",
    "4. SQL\n",
    "5. java\n",
    "6. c++ etc..."
   ]
  },
  {
   "cell_type": "markdown",
   "id": "8f2b7f34-f449-402e-b67b-30637b6c0410",
   "metadata": {},
   "source": [
    "Commonly used libraries are:\n",
    "1. TensorFlow\n",
    "2. NumPy\n",
    "3. Pandas\n",
    "4. Matplotlib\n",
    "5. Keras\n",
    "6. SciKit-Learn\n",
    "7. PyTorch\n",
    "8. SciPy etc..."
   ]
  },
  {
   "cell_type": "markdown",
   "id": "27620782-5331-4c45-970f-c2c3e9830462",
   "metadata": {},
   "source": [
    "|Data Science Tools|\n",
    "|---|\n",
    "|Hadoop|\n",
    "|TensorFlow|\n",
    "|SAS|"
   ]
  },
  {
   "cell_type": "markdown",
   "id": "bced619f-4ac1-4688-b2c8-6c164c88ed1e",
   "metadata": {},
   "source": [
    "### Below are few examples of evaluating arithmetic expressions in Python."
   ]
  },
  {
   "cell_type": "code",
   "execution_count": 2,
   "id": "52572abe-d9d5-4980-a0e1-f5ae686f2318",
   "metadata": {
    "tags": []
   },
   "outputs": [
    {
     "data": {
      "text/plain": [
       "17"
      ]
     },
     "execution_count": 2,
     "metadata": {},
     "output_type": "execute_result"
    }
   ],
   "source": [
    "#This a simple arithmetic expression to mutiply then add integers\n",
    "(3*4)+5"
   ]
  },
  {
   "cell_type": "code",
   "execution_count": 3,
   "id": "83b78b65-abfe-4dfd-b8ac-40a6efbb8685",
   "metadata": {
    "tags": []
   },
   "outputs": [
    {
     "data": {
      "text/plain": [
       "3.3333333333333335"
      ]
     },
     "execution_count": 3,
     "metadata": {},
     "output_type": "execute_result"
    }
   ],
   "source": [
    "#This will convert 200 minutes to hours by dividing by 60\n",
    "200/60"
   ]
  },
  {
   "cell_type": "markdown",
   "id": "55540b12-682e-48c9-8a5d-4c31edcc4911",
   "metadata": {},
   "source": [
    "Objectives:\n",
    "* List popular languages of data science\n",
    "* List popular libraries of data science\n",
    "* List popular data science tools\n",
    "* provide comments in cell\n"
   ]
  },
  {
   "cell_type": "markdown",
   "id": "825dfbab-3352-4214-8f2e-c1db60cef13a",
   "metadata": {},
   "source": [
    "## Author\n",
    "Vedangi Pathre"
   ]
  },
  {
   "cell_type": "code",
   "execution_count": null,
   "id": "2c4df6a3-83f9-4bdf-b0fe-8fffe3cad4f2",
   "metadata": {},
   "outputs": [],
   "source": []
  }
 ],
 "metadata": {
  "kernelspec": {
   "display_name": "Python",
   "language": "python",
   "name": "conda-env-python-py"
  },
  "language_info": {
   "codemirror_mode": {
    "name": "ipython",
    "version": 3
   },
   "file_extension": ".py",
   "mimetype": "text/x-python",
   "name": "python",
   "nbconvert_exporter": "python",
   "pygments_lexer": "ipython3",
   "version": "3.7.12"
  }
 },
 "nbformat": 4,
 "nbformat_minor": 5
}
